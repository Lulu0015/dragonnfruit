{
 "cells": [
  {
   "cell_type": "code",
   "execution_count": 3,
   "metadata": {},
   "outputs": [],
   "source": [
    "import sys\n",
    "import glob\n",
    "import numpy\n",
    "import scipy\n",
    "import h5py\n",
    "\n",
    "from scipy import sparse\n",
    "\n",
    "from dragonnfruit.io import LocusGenerator\n",
    "from dragonnfruit.io import GenomewideGenerator\n",
    "\n",
    "from dragonnfruit.models import CellStateController\n",
    "from dragonnfruit.models import DynamicBPNet\n",
    "from dragonnfruit.models import DragoNNFruit\n",
    "from dragonnfruit.preprocessing import extract_fragments\n",
    "from dragonnfruit.preprocessing import preprocess_sparse_atac\n",
    "from dragonnfruit.preprocessing import read_chrom_sizes\n",
    "from dragonnfruit.io import save_data, load_data\n",
    "\n",
    "\n",
    "import os\n",
    "import numpy as np\n",
    "import pandas as pd\n",
    "import scanpy as sc\n",
    "import anndata as ad\n",
    "import muon as mu\n",
    "from muon import atac as ac\n",
    "\n",
    "import collections\n",
    "from scipy.sparse import csc_matrix\n",
    "\n",
    "data_dir = \"/workspaces/torch_ddsm/_data_pool1\"\n"
   ]
  },
  {
   "cell_type": "code",
   "execution_count": 4,
   "metadata": {},
   "outputs": [
    {
     "name": "stderr",
     "output_type": "stream",
     "text": [
      "/home/vscode/.local/lib/python3.10/site-packages/anndata/_core/anndata.py:1899: UserWarning: Variable names are not unique. To make them unique, call `.var_names_make_unique`.\n",
      "  utils.warn_names_duplicates(\"var\")\n",
      "/home/vscode/.local/lib/python3.10/site-packages/anndata/_core/anndata.py:1899: UserWarning: Variable names are not unique. To make them unique, call `.var_names_make_unique`.\n",
      "  utils.warn_names_duplicates(\"var\")\n"
     ]
    },
    {
     "name": "stdout",
     "output_type": "stream",
     "text": [
      "Added `interval` annotation for features from /workspaces/torch_ddsm/_data_pool1/10x_data/pbmc3kv2/pbmc_granulocyte_sorted_3k_filtered_feature_bc_matrix.h5\n"
     ]
    },
    {
     "name": "stderr",
     "output_type": "stream",
     "text": [
      "/home/vscode/.local/lib/python3.10/site-packages/mudata/_core/mudata.py:479: UserWarning: var_names are not unique. To make them unique, call `.var_names_make_unique`.\n",
      "  warnings.warn(\n",
      "/home/vscode/.local/lib/python3.10/site-packages/mudata/_core/mudata.py:710: FutureWarning: In a future version, `df.iloc[:, i] = newvals` will attempt to set the values inplace instead of always setting a new array. To retain the old behavior, use either `df[df.columns[i]] = newvals` or, if columns are non-unique, `df.isetitem(i, newvals)`\n",
      "  data_mod.loc[:, colname] = col\n",
      "/home/vscode/.local/lib/python3.10/site-packages/mudata/_core/mudata.py:710: FutureWarning: In a future version, `df.iloc[:, i] = newvals` will attempt to set the values inplace instead of always setting a new array. To retain the old behavior, use either `df[df.columns[i]] = newvals` or, if columns are non-unique, `df.isetitem(i, newvals)`\n",
      "  data_mod.loc[:, colname] = col\n"
     ]
    }
   ],
   "source": [
    "### get the filtered cells\n",
    "\n",
    "import muon as mu\n",
    "\n",
    "multiome_file = f\"{data_dir}/10x_data/pbmc3kv2/pbmc_granulocyte_sorted_3k_filtered_feature_bc_matrix.h5\"\n",
    "mdata = mu.read_10x_h5(multiome_file)\n"
   ]
  },
  {
   "cell_type": "code",
   "execution_count": 7,
   "metadata": {},
   "outputs": [
    {
     "name": "stderr",
     "output_type": "stream",
     "text": [
      "252.21s - pydevd: Sending message related to process being replaced timed-out after 5 seconds\n",
      "252.41s - pydevd: Sending message related to process being replaced timed-out after 5 seconds\n",
      "252.59s - pydevd: Sending message related to process being replaced timed-out after 5 seconds\n",
      "252.76s - pydevd: Sending message related to process being replaced timed-out after 5 seconds\n",
      "253.16s - pydevd: Sending message related to process being replaced timed-out after 5 seconds\n",
      "253.34s - pydevd: Sending message related to process being replaced timed-out after 5 seconds\n",
      "253.51s - pydevd: Sending message related to process being replaced timed-out after 5 seconds\n",
      "253.69s - pydevd: Sending message related to process being replaced timed-out after 5 seconds\n",
      "22427it [00:00, 112338.92it/s]253.86s - pydevd: Sending message related to process being replaced timed-out after 5 seconds\n",
      "254.04s - pydevd: Sending message related to process being replaced timed-out after 5 seconds\n",
      "45107it [00:00, 113021.80it/s]254.21s - pydevd: Sending message related to process being replaced timed-out after 5 seconds\n",
      "67692it [00:00, 112751.04it/s]254.39s - pydevd: Sending message related to process being replaced timed-out after 5 seconds\n",
      "101412it [00:00, 112024.72it/s]254.57s - pydevd: Sending message related to process being replaced timed-out after 5 seconds\n",
      "254.75s - pydevd: Sending message related to process being replaced timed-out after 5 seconds\n",
      "124021it [00:01, 112544.69it/s]254.92s - pydevd: Sending message related to process being replaced timed-out after 5 seconds\n",
      "146495it [00:01, 111479.04it/s]255.10s - pydevd: Sending message related to process being replaced timed-out after 5 seconds\n",
      "180492it [00:01, 112769.31it/s]255.28s - pydevd: Sending message related to process being replaced timed-out after 5 seconds\n",
      "44110005it [06:22, 115384.59it/s]\n"
     ]
    },
    {
     "name": "stdout",
     "output_type": "stream",
     "text": [
      "\n",
      "/workspaces/torch_ddsm/_data_pool1/10x_data/pbmc3kv2/pbmc_granulocyte_sorted_3k_atac_fragments.tsv.gz\n",
      "Cell included:  2711\n",
      "Cells excluded:  0\n",
      "Cells not included:  459458\n",
      "Cells added:  0\n",
      "Cell inclusion list size:  2711\n",
      "Cell exclusion list size:  0\n",
      "Frag. included count:  39070633\n",
      "Frag. filtered by chrom:  16397\n",
      "Frag. filtered by length:  98970\n",
      "\n"
     ]
    }
   ],
   "source": [
    "chrom_sizes, header = read_chrom_sizes(\"/workspaces/torch_ddsm/_data_pool1/general/hg38.chrom.sizes\")\n",
    "canonical_chroms = ['chr1', 'chr2', 'chr3', 'chr4', 'chr5', 'chr6', 'chr7', \n",
    "\t\t'chr8', 'chr9', 'chr10', 'chr11', 'chr12', 'chr13', 'chr14', \n",
    "\t\t'chr15', 'chr16', 'chr17', 'chr18', 'chr19', 'chr20', 'chr21', \n",
    "\t\t'chr22', 'chrX']\n",
    "\n",
    "filtered_chrom_sizes = {key: value for key, value in chrom_sizes.items() if key in canonical_chroms}\n",
    "\n",
    "chroms = list(filtered_chrom_sizes.keys())\n",
    "\n",
    "parameters = {\n",
    "\t'fragments': [\"/workspaces/torch_ddsm/_data_pool1/10x_data/pbmc3kv2/pbmc_granulocyte_sorted_3k_atac_fragments.tsv.gz\"],\n",
    "\t'sequences': \"/workspaces/torch_ddsm/_data_pool1/10x_data/refdata-gex-GRCh38-2020-A/fasta/genome.fa\",\n",
    "\t'chrom_sizes': filtered_chrom_sizes,\n",
    "\t'chroms': chroms,\n",
    "\t'include_cells': [mdata.obs_names.tolist()],\n",
    "\t'exclude_cells': None,\n",
    "\t'cell_name_prefixes': '',\n",
    "\t'max_fragment_length': 1000,\n",
    "\t'start_offset': 4,\n",
    "\t'end_offset': -5,\n",
    "\t'n_jobs': 16,\n",
    "\t'verbose': True,\n",
    "\t'signals':'dragonnfruit_data.h5',\n",
    "\t'read_depths':'atac_read_depths.npz',\n",
    "\t'save_dir': '/workspaces/torch_ddsm/_data_pool1/test_dragonnfruit_pbmc',\n",
    "    'loci': '/workspaces/torch_ddsm/_data_pool1/10x_data/pbmc3kv2/pbmc_granulocyte_sorted_3k_atac_peaks.bed',\n",
    "    'n_neighbors': 500,\n",
    "\t'n_components': 50,\n",
    " \t'neighbors': 'atac_neighbors.npz',\n",
    "  \t'pca': 'atac_pca.npz',\n",
    "\t'count_matrix': 'atac_cellxpeak_counts.npz',\n",
    "\t'name' : \"pbmc_granulocyte_sorted_3k_atac\",\n",
    "}\n",
    "X_cscs, read_depths = extract_fragments(\n",
    "\t\tfragments=parameters['fragments'],\n",
    "\t\tchrom_sizes=parameters['chrom_sizes'],\n",
    "\t\tchroms=parameters['chroms'],\n",
    "\t\tinclude_cells=parameters['include_cells'],\n",
    "\t\texclude_cells=parameters['exclude_cells'],\n",
    "\t\tcell_name_prefixes=parameters['cell_name_prefixes'],\n",
    "\t\tmax_fragment_length=parameters['max_fragment_length'],\n",
    "\t\tstart_offset=parameters['start_offset'],\n",
    "\t\tend_offset=parameters['end_offset'],\n",
    "\t\tn_jobs=parameters['n_jobs'],\n",
    "\t\tverbose=parameters['verbose']\n",
    ")\n",
    "\n",
    "os.makedirs(parameters['save_dir'], exist_ok=True)\n",
    "save_data(f\"{parameters['save_dir']}/{parameters['signals']}\", X_cscs)\n",
    "numpy.savez_compressed(f\"{parameters['save_dir']}/{parameters['read_depths']}\", read_depths)"
   ]
  },
  {
   "cell_type": "code",
   "execution_count": 9,
   "metadata": {},
   "outputs": [
    {
     "name": "stderr",
     "output_type": "stream",
     "text": [
      "98319it [00:17, 5499.62it/s]\n"
     ]
    }
   ],
   "source": [
    "cellxlocus, X_pca, neighbors = preprocess_sparse_atac(\n",
    "    X_cscs, \n",
    "    peaks=parameters['loci'], \n",
    "    chroms=parameters['chroms'],\n",
    "    n_components=parameters['n_components'], \n",
    "    n_neighbors=parameters['n_neighbors'],\n",
    "    verbose=parameters['verbose'])\n",
    "\n",
    "scipy.sparse.save_npz(f\"{parameters['save_dir']}/{parameters['count_matrix']}\", cellxlocus)\n",
    "numpy.savez_compressed(f\"{parameters['save_dir']}/{parameters['pca']}\", X_pca)\n",
    "numpy.savez_compressed(f\"{parameters['save_dir']}/{parameters['neighbors']}\", neighbors)"
   ]
  },
  {
   "cell_type": "markdown",
   "metadata": {},
   "source": [
    "### chrom pseudobulk"
   ]
  },
  {
   "cell_type": "code",
   "execution_count": 10,
   "metadata": {},
   "outputs": [],
   "source": [
    "from dragonnfruit.preprocessing import create_pseudobulks\n",
    "create_pseudobulks(\n",
    "    reads=X_cscs, \n",
    "    output_filename=f\"{parameters['save_dir']}/pbulk.bw\", \n",
    "    chrom_sizes=parameters['chrom_sizes'],\n",
    "    chroms=parameters['chroms'])"
   ]
  },
  {
   "cell_type": "code",
   "execution_count": 11,
   "metadata": {},
   "outputs": [
    {
     "data": {
      "text/plain": [
       "<2711x248956422 sparse matrix of type '<class 'numpy.int8'>'\n",
       "\twith 7384156 stored elements in Compressed Sparse Column format>"
      ]
     },
     "execution_count": 11,
     "metadata": {},
     "output_type": "execute_result"
    }
   ],
   "source": [
    "X_cscs['chr1']"
   ]
  },
  {
   "cell_type": "markdown",
   "metadata": {},
   "source": [
    "### Fit bias model"
   ]
  },
  {
   "cell_type": "markdown",
   "metadata": {},
   "source": [
    "##### Does this need to be cell-wise bias?"
   ]
  },
  {
   "cell_type": "code",
   "execution_count": 14,
   "metadata": {},
   "outputs": [
    {
     "name": "stderr",
     "output_type": "stream",
     "text": [
      "Loading Loci:   0%|          | 47/98319 [00:00<03:29, 467.97it/s]"
     ]
    },
    {
     "name": "stderr",
     "output_type": "stream",
     "text": [
      "Loading Loci: 100%|██████████| 98319/98319 [03:32<00:00, 461.89it/s]\n"
     ]
    },
    {
     "name": "stdout",
     "output_type": "stream",
     "text": [
      "Warning: chrY 11295191 11296191 not valid bigwig indexes. Using zeros instead.\n",
      "Warning: chrY 11332699 11333699 not valid bigwig indexes. Using zeros instead.\n",
      "Warning: chrY 11333520 11334520 not valid bigwig indexes. Using zeros instead.\n",
      "Warning: chrY 56836164 56837164 not valid bigwig indexes. Using zeros instead.\n",
      "Warning: KI270727.1 52033 53033 not valid bigwig indexes. Using zeros instead.\n",
      "Warning: GL000194.1 27836 28836 not valid bigwig indexes. Using zeros instead.\n",
      "Warning: GL000194.1 100863 101863 not valid bigwig indexes. Using zeros instead.\n",
      "Warning: GL000194.1 114440 115440 not valid bigwig indexes. Using zeros instead.\n",
      "Warning: GL000205.2 62884 63884 not valid bigwig indexes. Using zeros instead.\n",
      "Warning: GL000205.2 67693 68693 not valid bigwig indexes. Using zeros instead.\n",
      "Warning: GL000205.2 68930 69930 not valid bigwig indexes. Using zeros instead.\n",
      "Warning: GL000205.2 87394 88394 not valid bigwig indexes. Using zeros instead.\n",
      "Warning: GL000205.2 88575 89575 not valid bigwig indexes. Using zeros instead.\n",
      "Warning: GL000205.2 140285 141285 not valid bigwig indexes. Using zeros instead.\n",
      "Warning: GL000195.1 30343 31343 not valid bigwig indexes. Using zeros instead.\n",
      "Warning: GL000195.1 32118 33118 not valid bigwig indexes. Using zeros instead.\n",
      "Warning: GL000219.1 39888 40888 not valid bigwig indexes. Using zeros instead.\n",
      "Warning: GL000219.1 42107 43107 not valid bigwig indexes. Using zeros instead.\n",
      "Warning: GL000219.1 44581 45581 not valid bigwig indexes. Using zeros instead.\n",
      "Warning: GL000219.1 45641 46641 not valid bigwig indexes. Using zeros instead.\n",
      "Warning: GL000219.1 50677 51677 not valid bigwig indexes. Using zeros instead.\n",
      "Warning: GL000219.1 90012 91012 not valid bigwig indexes. Using zeros instead.\n",
      "Warning: GL000219.1 92113 93113 not valid bigwig indexes. Using zeros instead.\n",
      "Warning: GL000219.1 99210 100210 not valid bigwig indexes. Using zeros instead.\n",
      "Warning: GL000219.1 124953 125953 not valid bigwig indexes. Using zeros instead.\n",
      "Warning: KI270734.1 133437 134437 not valid bigwig indexes. Using zeros instead.\n",
      "Warning: KI270721.1 2034 3034 not valid bigwig indexes. Using zeros instead.\n",
      "Warning: KI270726.1 27095 28095 not valid bigwig indexes. Using zeros instead.\n",
      "Warning: KI270726.1 41409 42409 not valid bigwig indexes. Using zeros instead.\n",
      "Warning: KI270713.1 3901 4901 not valid bigwig indexes. Using zeros instead.\n",
      "Warning: KI270713.1 21386 22386 not valid bigwig indexes. Using zeros instead.\n",
      "Warning: KI270713.1 29489 30489 not valid bigwig indexes. Using zeros instead.\n",
      "Warning: KI270713.1 36874 37874 not valid bigwig indexes. Using zeros instead.\n"
     ]
    },
    {
     "name": "stderr",
     "output_type": "stream",
     "text": [
      "100%|██████████| 33/33 [00:00<00:00, 1173.92it/s]\n",
      "1253.88s - pydevd: Sending message related to process being replaced timed-out after 5 seconds\n",
      "1254.06s - pydevd: Sending message related to process being replaced timed-out after 5 seconds\n",
      "1254.24s - pydevd: Sending message related to process being replaced timed-out after 5 seconds\n",
      "1254.42s - pydevd: Sending message related to process being replaced timed-out after 5 seconds\n",
      "1254.59s - pydevd: Sending message related to process being replaced timed-out after 5 seconds\n",
      "1254.77s - pydevd: Sending message related to process being replaced timed-out after 5 seconds\n",
      "1254.95s - pydevd: Sending message related to process being replaced timed-out after 5 seconds\n",
      "1255.12s - pydevd: Sending message related to process being replaced timed-out after 5 seconds\n",
      "1255.30s - pydevd: Sending message related to process being replaced timed-out after 5 seconds\n",
      "1255.47s - pydevd: Sending message related to process being replaced timed-out after 5 seconds\n",
      "1255.65s - pydevd: Sending message related to process being replaced timed-out after 5 seconds\n",
      "1255.83s - pydevd: Sending message related to process being replaced timed-out after 5 seconds\n",
      "1256.00s - pydevd: Sending message related to process being replaced timed-out after 5 seconds\n",
      "1256.18s - pydevd: Sending message related to process being replaced timed-out after 5 seconds\n",
      "1256.35s - pydevd: Sending message related to process being replaced timed-out after 5 seconds\n",
      "1256.53s - pydevd: Sending message related to process being replaced timed-out after 5 seconds\n",
      "1256.71s - pydevd: Sending message related to process being replaced timed-out after 5 seconds\n",
      "1256.88s - pydevd: Sending message related to process being replaced timed-out after 5 seconds\n",
      "1257.06s - pydevd: Sending message related to process being replaced timed-out after 5 seconds\n",
      "1257.24s - pydevd: Sending message related to process being replaced timed-out after 5 seconds\n",
      "1257.41s - pydevd: Sending message related to process being replaced timed-out after 5 seconds\n",
      "1257.59s - pydevd: Sending message related to process being replaced timed-out after 5 seconds\n",
      "1257.76s - pydevd: Sending message related to process being replaced timed-out after 5 seconds\n",
      "1257.94s - pydevd: Sending message related to process being replaced timed-out after 5 seconds\n",
      "1258.11s - pydevd: Sending message related to process being replaced timed-out after 5 seconds\n",
      "1258.29s - pydevd: Sending message related to process being replaced timed-out after 5 seconds\n",
      "1258.47s - pydevd: Sending message related to process being replaced timed-out after 5 seconds\n",
      "1258.64s - pydevd: Sending message related to process being replaced timed-out after 5 seconds\n",
      "1258.82s - pydevd: Sending message related to process being replaced timed-out after 5 seconds\n",
      "1258.99s - pydevd: Sending message related to process being replaced timed-out after 5 seconds\n",
      "1259.17s - pydevd: Sending message related to process being replaced timed-out after 5 seconds\n",
      "1259.34s - pydevd: Sending message related to process being replaced timed-out after 5 seconds\n",
      "1259.52s - pydevd: Sending message related to process being replaced timed-out after 5 seconds\n",
      "1259.70s - pydevd: Sending message related to process being replaced timed-out after 5 seconds\n",
      "1259.87s - pydevd: Sending message related to process being replaced timed-out after 5 seconds\n",
      "1260.12s - pydevd: Sending message related to process being replaced timed-out after 5 seconds\n",
      "1260.27s - pydevd: Sending message related to process being replaced timed-out after 5 seconds\n",
      "1260.45s - pydevd: Sending message related to process being replaced timed-out after 5 seconds\n",
      "1260.63s - pydevd: Sending message related to process being replaced timed-out after 5 seconds\n",
      "1260.81s - pydevd: Sending message related to process being replaced timed-out after 5 seconds\n",
      "1260.98s - pydevd: Sending message related to process being replaced timed-out after 5 seconds\n",
      "1261.16s - pydevd: Sending message related to process being replaced timed-out after 5 seconds\n",
      "1261.33s - pydevd: Sending message related to process being replaced timed-out after 5 seconds\n",
      "1261.51s - pydevd: Sending message related to process being replaced timed-out after 5 seconds\n",
      "1261.69s - pydevd: Sending message related to process being replaced timed-out after 5 seconds\n",
      "1261.87s - pydevd: Sending message related to process being replaced timed-out after 5 seconds\n",
      "1262.04s - pydevd: Sending message related to process being replaced timed-out after 5 seconds\n",
      "1262.22s - pydevd: Sending message related to process being replaced timed-out after 5 seconds\n",
      "1262.39s - pydevd: Sending message related to process being replaced timed-out after 5 seconds\n",
      "1262.57s - pydevd: Sending message related to process being replaced timed-out after 5 seconds\n",
      "1262.75s - pydevd: Sending message related to process being replaced timed-out after 5 seconds\n",
      "1262.93s - pydevd: Sending message related to process being replaced timed-out after 5 seconds\n",
      "1263.10s - pydevd: Sending message related to process being replaced timed-out after 5 seconds\n",
      "1263.29s - pydevd: Sending message related to process being replaced timed-out after 5 seconds\n",
      "1263.46s - pydevd: Sending message related to process being replaced timed-out after 5 seconds\n",
      "1263.65s - pydevd: Sending message related to process being replaced timed-out after 5 seconds\n",
      "1263.82s - pydevd: Sending message related to process being replaced timed-out after 5 seconds\n",
      "1264.00s - pydevd: Sending message related to process being replaced timed-out after 5 seconds\n",
      "1264.18s - pydevd: Sending message related to process being replaced timed-out after 5 seconds\n",
      "1264.36s - pydevd: Sending message related to process being replaced timed-out after 5 seconds\n",
      "1264.54s - pydevd: Sending message related to process being replaced timed-out after 5 seconds\n",
      "1264.71s - pydevd: Sending message related to process being replaced timed-out after 5 seconds\n",
      "1264.89s - pydevd: Sending message related to process being replaced timed-out after 5 seconds\n",
      "1265.06s - pydevd: Sending message related to process being replaced timed-out after 5 seconds\n"
     ]
    },
    {
     "name": "stdout",
     "output_type": "stream",
     "text": [
      "GC Bin\tBackground Count\tPeak Count\tChosen Count\n",
      "0.00:        0\t       0\t       0\n",
      "0.02:        0\t       0\t       0\n",
      "0.04:        0\t       0\t       0\n",
      "0.06:        6\t       0\t       0\n",
      "0.08:       10\t       0\t       0\n",
      "0.10:       12\t       0\t       0\n",
      "0.12:       17\t       0\t       0\n",
      "0.14:       27\t       0\t       0\n",
      "0.16:       39\t       0\t       0\n",
      "0.18:       37\t       0\t       0\n",
      "0.20:       69\t       0\t       0\n",
      "0.22:      124\t       4\t       4\n",
      "0.24:      236\t       7\t       7\n",
      "0.26:     1361\t      12\t      12\n",
      "0.28:     8222\t      56\t      56\n",
      "0.30:    30614\t     275\t     275\n",
      "0.32:    70314\t    1004\t    1004\n",
      "0.34:   117033\t    2629\t    2629\n",
      "0.36:   157741\t    4986\t    4986\n",
      "0.38:   180971\t    7274\t    7274\n",
      "0.40:   155453\t    9064\t    9064\n",
      "0.42:   113742\t   10147\t   10147\n",
      "0.44:    85768\t    9823\t    9823\n",
      "0.46:    62739\t    9025\t    9025\n",
      "0.48:    40418\t    7931\t    7931\n",
      "0.50:    25249\t    7149\t    7149\n",
      "0.52:    15291\t    5870\t    5870\n",
      "0.54:     9573\t    5069\t    6571\n",
      "0.56:     6428\t    4221\t    6428\n",
      "0.58:     4212\t    3706\t    4212\n",
      "0.60:     2509\t    2955\t    2509\n",
      "0.62:     1517\t    2358\t    1517\n",
      "0.64:      890\t    1813\t     890\n",
      "0.66:      453\t    1258\t     453\n",
      "0.68:      246\t     787\t     246\n",
      "0.70:       99\t     476\t      99\n",
      "0.72:       74\t     258\t      74\n",
      "0.74:       36\t     101\t      36\n",
      "0.76:       16\t      45\t      16\n",
      "0.78:        5\t      13\t       5\n",
      "0.80:        6\t       2\t       6\n",
      "0.82:        0\t       1\t       0\n",
      "0.84:        1\t       0\t       1\n",
      "0.86:        0\t       0\t       0\n",
      "0.88:        0\t       0\t       0\n",
      "0.90:        0\t       0\t       0\n",
      "0.92:        0\t       0\t       0\n",
      "0.94:        0\t       0\t       0\n",
      "0.96:        0\t       0\t       0\n",
      "0.98:        0\t       0\t       0\n",
      "1.00:        0\t       0\t       0\n"
     ]
    },
    {
     "name": "stderr",
     "output_type": "stream",
     "text": [
      "Loading Loci: 100%|██████████| 98319/98319 [04:43<00:00, 346.58it/s]\n"
     ]
    },
    {
     "name": "stdout",
     "output_type": "stream",
     "text": [
      "GC-bin KS test stat:0.0429, p-value 6.01e-79\n",
      "Peak Robust Signal Minimum: 28.0\n",
      "Matched Signal Maximum: 14.0\n"
     ]
    }
   ],
   "source": [
    "from bpnetlite.negatives import extract_matching_loci\n",
    "\n",
    "bp_parameters = {\n",
    "\t'peaks': '/workspaces/torch_ddsm/_data_pool1/10x_data/pbmc3kv2/pbmc_granulocyte_sorted_3k_atac_peaks.bed',\n",
    "\t'fasta': parameters['sequences'],\n",
    "\t'bin_width': 0.02,\n",
    "\t'max_n_perc': 0.1,\n",
    "\t'bigwig': '/workspaces/torch_ddsm/_data_pool1/test_dragonnfruit_pbmc/pbulk.bw',\n",
    "\t'beta': 0.5,\n",
    "\t'in_window': 2114,\n",
    "\t'out_window': 1000,\n",
    "\t'verbose': True,\n",
    "    'chroms': chroms,\n",
    "    'max_jitter': 128,\n",
    "    'output': 'matched_loci.bed',\n",
    "}\n",
    "\n",
    "# Extract regions that match the GC content of the peaks\n",
    "matched_loci = extract_matching_loci(\n",
    "    loci=parameters['loci'], \n",
    "    fasta=bp_parameters['fasta'],\n",
    "    gc_bin_width=bp_parameters['bin_width'],\n",
    "    max_n_perc=bp_parameters['max_n_perc'],\n",
    "    bigwig=bp_parameters['bigwig'],\n",
    "    signal_beta=bp_parameters['beta'],\n",
    "    in_window=bp_parameters['in_window'],\n",
    "    out_window=bp_parameters['out_window'],\n",
    "    verbose=bp_parameters['verbose']\n",
    ")\n",
    "\n",
    "matched_loci.to_csv(f\"{parameters['save_dir']}/{bp_parameters['output']}\", header=False, sep='\\t', index=False)"
   ]
  },
  {
   "cell_type": "markdown",
   "metadata": {},
   "source": [
    "#### Train the bias model"
   ]
  },
  {
   "cell_type": "code",
   "execution_count": 15,
   "metadata": {},
   "outputs": [
    {
     "name": "stderr",
     "output_type": "stream",
     "text": [
      "Loading Loci:  81%|████████  | 66523/82172 [02:42<00:40, 390.02it/s]"
     ]
    }
   ],
   "source": [
    "# default bias parameters\n",
    "from bpnetlite.io import PeakGenerator\n",
    "from bpnetlite.io import extract_loci\n",
    "\n",
    "\n",
    "training_data = PeakGenerator(\n",
    "    loci=matched_loci, \n",
    "    sequences=parameters['sequences'],\n",
    "    signals=[f\"{parameters['save_dir']}/pbulk.bw\"],\n",
    "    controls=None,\n",
    "    chroms=chroms[2:],\n",
    "    in_window=bp_parameters['in_window'],\n",
    "    out_window=bp_parameters['out_window'],\n",
    "    max_jitter=bp_parameters['max_jitter'],\n",
    "    reverse_complement=True,\n",
    "    min_counts=None,\n",
    "    max_counts=None,\n",
    "    random_state=None,\n",
    "    batch_size=64,\n",
    "    verbose=True\n",
    ")\n",
    "\n",
    "valid_data = extract_loci(\n",
    "    sequences=parameters['sequences'],\n",
    "    signals=[f\"{parameters['save_dir']}/pbulk.bw\"],\n",
    "    controls=None,\n",
    "    loci=matched_loci,\n",
    "    chroms=chroms[:2],\n",
    "    in_window=bp_parameters['in_window'],\n",
    "    out_window=bp_parameters['out_window'],\n",
    "    max_jitter=bp_parameters['max_jitter'],\n",
    "    verbose=True,\n",
    ")\n",
    "\n",
    "valid_sequences, valid_signals = valid_data\n",
    "valid_controls = None\n",
    "n_control_tracks = 0"
   ]
  },
  {
   "cell_type": "code",
   "execution_count": null,
   "metadata": {},
   "outputs": [],
   "source": [
    "bias_fit_parameters = {\n",
    "    \"n_filters\": 256,\n",
    "    \"n_layers\": 4,\n",
    "    \"max_counts\": None,\n",
    "    \"loci\": \"../../../chromatin-atlas/ATAC/ENCSR637XSC/negatives_data/negatives.bed\",\n",
    "    \"verbose\": True,\n",
    "    \"random_state\": None,\n",
    "\t\"alpha\": 10,\n",
    "\t\"beta\": 0.5,\n",
    "    \"lr\": 0.000001,\n",
    "    \"max_epochs\": 40,\n",
    "    \"batch_size\": 512,\n",
    "    \"n_control_tracks\": n_control_tracks,\n",
    "    \"valid_controls\": valid_controls,\n",
    "    \"n_outputs\" : 1,\n",
    "    \"validation_iter\": 1000,\n",
    "}\n",
    "\n",
    "# bias_fit_parameters = parameters.copy()\n",
    "\n",
    "name = f\"{parameters['name']}.chrombpnet.bias.fit.json\"\n",
    "bias_fit_parameters['name'] = f\"{parameters['name']}.bias\"\n",
    "parameters['bias_model'] = f\"{bias_fit_parameters['name']}.torch\"\n",
    "\n",
    "min_counts = training_data.dataset.signals.sum(dim=(1, 2)).min().item()\n",
    "bias_fit_parameters['max_counts'] = min_counts * bias_fit_parameters['beta']"
   ]
  },
  {
   "cell_type": "markdown",
   "metadata": {},
   "source": [
    "#### Run BPnet fit"
   ]
  },
  {
   "cell_type": "code",
   "execution_count": null,
   "metadata": {},
   "outputs": [],
   "source": [
    "import torch\n",
    "\n",
    "from bpnetlite.bpnet import BPNet\n",
    "\n",
    "trimming = (bp_parameters['in_window'] - bp_parameters['out_window']) // 2\n",
    "\n",
    "model = BPNet(n_filters=bias_fit_parameters['n_filters'], \n",
    "    n_layers=bias_fit_parameters['n_layers'],\n",
    "    profile_output_bias=True,\n",
    "    count_output_bias=True,\n",
    "    alpha=bias_fit_parameters['alpha'],\n",
    "    trimming=trimming,\n",
    "    name=f\"{parameters['save_dir']}/{parameters['name']}\",\n",
    "    n_control_tracks=bias_fit_parameters['n_control_tracks'],\n",
    "    n_outputs=bias_fit_parameters['n_outputs']).cuda()\n",
    "\n",
    "optimizer = torch.optim.AdamW(model.parameters(), lr=bias_fit_parameters['lr'])\n",
    "\n",
    "model.fit(training_data, optimizer, X_valid=valid_sequences, \n",
    "\t\tX_ctl_valid=valid_controls, y_valid=valid_signals, max_epochs=bias_fit_parameters['max_epochs'], \n",
    "    batch_size=bias_fit_parameters['batch_size'],validation_iter=bias_fit_parameters['validation_iter'],verbose=bias_fit_parameters['verbose'])\n"
   ]
  },
  {
   "cell_type": "markdown",
   "metadata": {},
   "source": [
    "## Run attribution/motif diagnosis on the bias model"
   ]
  },
  {
   "cell_type": "markdown",
   "metadata": {},
   "source": [
    "#### Attribution params"
   ]
  },
  {
   "cell_type": "code",
   "execution_count": null,
   "metadata": {},
   "outputs": [],
   "source": [
    "attribute_parameters = {\n",
    "\t'sequences': parameters['sequences'],\n",
    "\t'loci': parameters['loci'],\n",
    " \t'batch_size': 5,\n",
    "\t'in_window': 2114,\n",
    "\t'out_window': 1000,\n",
    "\t'verbose': True,\n",
    "\t'max_jitter': 0,\n",
    "\t'chroms': ['chr6', 'chr7', 'chrX'],\n",
    "\t'model': None,\n",
    "\t'output': 'profile',\n",
    "\t'n_shuffles':20,\n",
    "\t'random_state':0,\n",
    " \t'ohe_filename': f\"{parameters['save_dir']}/{parameters['name']}.ohe.npz\",\n",
    "\t'attr_filename': f\"{parameters['save_dir']}/{parameters['name']}.attr.npz\",\n",
    "}"
   ]
  },
  {
   "cell_type": "markdown",
   "metadata": {},
   "source": [
    "#### Run attribution on the bias model"
   ]
  },
  {
   "cell_type": "code",
   "execution_count": null,
   "metadata": {},
   "outputs": [],
   "source": [
    "attribute_parameters['sequences']"
   ]
  },
  {
   "cell_type": "code",
   "execution_count": null,
   "metadata": {},
   "outputs": [],
   "source": [
    "from bpnetlite.attributions import attribute\n",
    "\n",
    "model = torch.load(f\"{parameters['save_dir']}/{parameters['name']}.final.torch\").cuda()\n",
    "\n",
    "X = extract_loci(\n",
    "    sequences=attribute_parameters['sequences'],\n",
    "    loci=attribute_parameters['loci'],\n",
    "    chroms=attribute_parameters['chroms'],\n",
    "    max_jitter=attribute_parameters['max_jitter'],\n",
    "    verbose=attribute_parameters['verbose']\n",
    ")"
   ]
  },
  {
   "cell_type": "code",
   "execution_count": null,
   "metadata": {},
   "outputs": [],
   "source": [
    "X_ctl = None\n",
    "X_attr = attribute(model, X, args=X_ctl,\n",
    "    model_output=attribute_parameters['output'], hypothetical=True, \n",
    "    n_shuffles=attribute_parameters['n_shuffles'],\n",
    "    batch_size=attribute_parameters['batch_size'],\n",
    "    random_state=attribute_parameters['random_state'],\n",
    "    verbose=attribute_parameters['verbose'])\n",
    "\n",
    "numpy.savez_compressed(attribute_parameters['ohe_filename'], X)\n",
    "numpy.savez_compressed(attribute_parameters['attr_filename'], X_attr)"
   ]
  },
  {
   "cell_type": "markdown",
   "metadata": {},
   "source": [
    "#### Modisco params"
   ]
  },
  {
   "cell_type": "code",
   "execution_count": null,
   "metadata": {},
   "outputs": [],
   "source": [
    "modisco_motifs_parameters = {\n",
    "    'n_seqlets': 100000,\n",
    "    'output_filename': f\"{parameters['save_dir']}/{parameters['name']}_modisco_results.h5\",\n",
    "    'verbose': True,\n",
    "    'n_leiden': 2,\n",
    "    'window': 400,\n",
    "}"
   ]
  },
  {
   "cell_type": "markdown",
   "metadata": {},
   "source": [
    "#### Run modisco on the attributions"
   ]
  },
  {
   "cell_type": "code",
   "execution_count": null,
   "metadata": {},
   "outputs": [],
   "source": [
    "import modiscolite\n",
    "from modiscolite.util import calculate_window_offsets\n",
    "\n",
    "sequences = np.load(attribute_parameters['ohe_filename'])['arr_0']\n",
    "attributions = np.load(attribute_parameters['attr_filename'])['arr_0']\n",
    "\n",
    "center = sequences.shape[2] // 2\n",
    "start, end = calculate_window_offsets(center, modisco_motifs_parameters['window'])\n",
    "\n",
    "sequences = sequences[:, :, start:end].transpose(0, 2, 1)\n",
    "attributions = attributions[:, :, start:end].transpose(0, 2, 1)\n",
    "\n",
    "if sequences.shape[1] < modisco_motifs_parameters['window']:\n",
    "    raise ValueError(\"Window ({}) cannot be \".format(modisco_motifs_parameters['window']) +\n",
    "        \"longer than the sequences\".format(sequences.shape))\n",
    "\n",
    "sequences = sequences.astype('float32')\n",
    "attributions = attributions.astype('float32')\n",
    "\n",
    "pos_patterns, neg_patterns = modiscolite.tfmodisco.TFMoDISco(\n",
    "    hypothetical_contribs=attributions, \n",
    "    one_hot=sequences,\n",
    "    max_seqlets_per_metacluster=modisco_motifs_parameters['n_seqlets'],\n",
    "    sliding_window_size=20,\n",
    "    flank_size=5,\n",
    "    target_seqlet_fdr=0.05,\n",
    "    n_leiden_runs=modisco_motifs_parameters['n_leiden'],\n",
    "    verbose=modisco_motifs_parameters['verbose'])\n",
    "\n",
    "modiscolite.io.save_hdf5(modisco_motifs_parameters['output_filename'], pos_patterns, neg_patterns, modisco_motifs_parameters['window'])"
   ]
  },
  {
   "cell_type": "markdown",
   "metadata": {},
   "source": [
    "#### Parameterize the modisco report"
   ]
  },
  {
   "cell_type": "code",
   "execution_count": null,
   "metadata": {},
   "outputs": [],
   "source": [
    "modisco_motifs_parameters['output_filename']"
   ]
  },
  {
   "cell_type": "code",
   "execution_count": null,
   "metadata": {},
   "outputs": [],
   "source": [
    "modisco_report_parameters= {\n",
    "    'motifs': '/workspaces/torch_ddsm/_data_pool1/jaspar/JASPAR2020_CORE_vertebrates_non-redundant_pfms_meme.txt',\n",
    "    'output_folder': f\"{parameters['save_dir']}/{parameters['name']}_modisco/\",\n",
    "    'verbose': True,\n",
    "    'input': modisco_motifs_parameters['output_filename'],\n",
    "    \n",
    "}"
   ]
  },
  {
   "cell_type": "markdown",
   "metadata": {},
   "source": [
    "#### Generate the modisco report"
   ]
  },
  {
   "cell_type": "code",
   "execution_count": null,
   "metadata": {},
   "outputs": [],
   "source": [
    "# Step 5: Generate the tf-modisco report\n",
    "modiscolite.report.report_motifs(\n",
    "    modisco_report_parameters['input'], \n",
    "    modisco_report_parameters['output_folder'],\n",
    "    img_path_suffix=modisco_report_parameters['output_folder'], \n",
    "    meme_motif_db=modisco_report_parameters['motifs'],\n",
    "    is_writing_tomtom_matrix=True,\n",
    "    top_n_matches=3)"
   ]
  },
  {
   "cell_type": "code",
   "execution_count": null,
   "metadata": {},
   "outputs": [],
   "source": [
    "from IPython.display import HTML\n",
    "\n",
    "# Open the HTML file and read its content\n",
    "with open(\n",
    "    '/workspaces/torch_ddsm/_data_pool1/test_dragonnfruit_pbmc/pbmc_granulocyte_sorted_3k_atac_modisco/motifs.html', \n",
    "    'r') as file:\n",
    "    html_content = file.read()\n",
    "\n",
    "# Display the HTML content\n",
    "HTML(html_content)"
   ]
  }
 ],
 "metadata": {
  "kernelspec": {
   "display_name": "myenv",
   "language": "python",
   "name": "python3"
  },
  "language_info": {
   "codemirror_mode": {
    "name": "ipython",
    "version": 3
   },
   "file_extension": ".py",
   "mimetype": "text/x-python",
   "name": "python",
   "nbconvert_exporter": "python",
   "pygments_lexer": "ipython3",
   "version": "3.10.13"
  }
 },
 "nbformat": 4,
 "nbformat_minor": 2
}
